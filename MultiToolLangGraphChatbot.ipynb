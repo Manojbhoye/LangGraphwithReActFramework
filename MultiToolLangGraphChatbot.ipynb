{
 "cells": [
  {
   "cell_type": "markdown",
   "id": "e41c9092",
   "metadata": {},
   "source": [
    "Building ChatBot with Multiple tools using LangGraph"
   ]
  },
  {
   "cell_type": "code",
   "execution_count": 3,
   "id": "41f5c855",
   "metadata": {},
   "outputs": [
    {
     "data": {
      "text/plain": [
       "True"
      ]
     },
     "execution_count": 3,
     "metadata": {},
     "output_type": "execute_result"
    }
   ],
   "source": [
    "from dotenv import load_dotenv\n",
    "load_dotenv()"
   ]
  },
  {
   "cell_type": "code",
   "execution_count": 31,
   "id": "40bd8b81",
   "metadata": {},
   "outputs": [],
   "source": [
    "from langchain_community.tools import ArxivQueryRun, WikipediaQueryRun\n",
    "from langchain_community.utilities import ArxivAPIWrapper,WikipediaAPIWrapper\n",
    "## from langchain_community.tools.tavily_search import TavilySearchResults\n",
    "from langchain_tavily import TavilySearch\n",
    "from langchain_groq import ChatGroq\n",
    "from langchain_core.messages import AIMessage, HumanMessage, AnyMessage\n",
    "from langgraph.graph.message import add_messages\n",
    "from typing import Annotated\n",
    "from typing_extensions import TypedDict\n",
    "from pprint import pprint"
   ]
  },
  {
   "cell_type": "code",
   "execution_count": 4,
   "id": "18028225",
   "metadata": {},
   "outputs": [],
   "source": [
    "from IPython.display import Image, display\n",
    "from langgraph.graph import StateGraph, START, END\n",
    "from langgraph.prebuilt import ToolNode\n",
    "from langgraph.prebuilt import tools_condition\n"
   ]
  },
  {
   "cell_type": "code",
   "execution_count": 21,
   "id": "c13d1201",
   "metadata": {},
   "outputs": [],
   "source": [
    "#Arxiv Wrapper \n",
    "api_wrapper_arxiv = ArxivAPIWrapper(top_k_results=2, doc_content_chars_max=500)\n",
    "arxiv = ArxivQueryRun(api_wrapper=api_wrapper_arxiv)\n",
    "\n",
    "#Wikipedia Wrapper\n",
    "api_wrapper_wiki = WikipediaAPIWrapper(top_k_results=2, doc_content_chars_max=500)\n",
    "wiki = WikipediaQueryRun(api_wrapper=api_wrapper_wiki)\n",
    "\n",
    "#Taviliy search tool\n",
    "tavily = TavilySearch()\n"
   ]
  },
  {
   "cell_type": "code",
   "execution_count": 23,
   "id": "32b5c1b6",
   "metadata": {},
   "outputs": [],
   "source": [
    "##Custom Functions\n",
    "\n",
    "def multiply(a: int, b: int) -> int:\n",
    "    \"\"\"Multiply a and b\n",
    "\n",
    "    Args:\n",
    "        a: first int\n",
    "        b: second int\n",
    "    \"\"\"\n",
    "    return a * b\n",
    "\n",
    "def add(a: int, b: int) -> int:\n",
    "    \"\"\"Add a and b\n",
    "\n",
    "    Args:\n",
    "        a: first int\n",
    "        b: second int\n",
    "    \"\"\"\n",
    "    return a + b\n",
    "\n",
    "def divde(a: int, b: int) -> float:\n",
    "    \"\"\"Divide a by b\n",
    "\n",
    "    Args:\n",
    "        a: first int\n",
    "        b: second int\n",
    "    \"\"\"\n",
    "    return a/b\n",
    "\n",
    "tools = [arxiv,wiki,tavily,multiply,add,divde]"
   ]
  },
  {
   "cell_type": "code",
   "execution_count": null,
   "id": "5cfdbd93",
   "metadata": {},
   "outputs": [
    {
     "data": {
      "text/plain": [
       "[{'name': 'tavily_search',\n",
       "  'args': {'query': 'Maharashtra Politics',\n",
       "   'search_depth': 'advanced',\n",
       "   'time_range': 'week',\n",
       "   'topic': 'news'},\n",
       "  'id': 'tgxs8e7yp',\n",
       "  'type': 'tool_call'}]"
      ]
     },
     "execution_count": 30,
     "metadata": {},
     "output_type": "execute_result"
    }
   ],
   "source": [
    "#Initialize LLM Model\n",
    "groq_llm = ChatGroq(\n",
    "    model = \"qwen/qwen3-32b\"\n",
    ")\n",
    "\n",
    "llm_with_tools = groq_llm.bind_tools(tools)\n",
    "#llm_with_tools.invoke([HumanMessage(content=\"what is the recent Maharshtra Politics News\")]).tool_calls"
   ]
  },
  {
   "cell_type": "code",
   "execution_count": 32,
   "id": "a86e1673",
   "metadata": {},
   "outputs": [],
   "source": [
    "class State(TypedDict):\n",
    "    messages:Annotated[list[AnyMessage],add_messages]\n",
    "\n",
    "\n",
    "##Node Definition\n",
    "def tool_calling_llm(state: State):\n",
    "    return {\"messages\":[llm_with_tools.invoke(state[\"messages\"])]}"
   ]
  },
  {
   "cell_type": "code",
   "execution_count": 35,
   "id": "bed8c58b",
   "metadata": {},
   "outputs": [
    {
     "data": {
      "image/png": "[encoded data removed]",
      "text/plain": [
       "<IPython.core.display.Image object>"
      ]
     },
     "metadata": {},
     "output_type": "display_data"
    }
   ],
   "source": [
    "#Build Graph\n",
    "builder = StateGraph(State)\n",
    "builder.add_node(\"tool_calling_llm\",tool_calling_llm)\n",
    "builder.add_node(\"tools\",ToolNode(tools))\n",
    "\n",
    "builder.add_edge(START,\"tool_calling_llm\")\n",
    "builder.add_conditional_edges(\"tool_calling_llm\",tools_condition)\n",
    "builder.add_edge(\"tools\",\"tool_calling_llm\")\n",
    "\n",
    "graph = builder.compile()\n",
    "\n",
    "#view \n",
    "display(Image(graph.get_graph().draw_mermaid_png()))"
   ]
  },
  {
   "cell_type": "code",
   "execution_count": 40,
   "id": "bec8b4b5",
   "metadata": {},
   "outputs": [
    {
     "name": "stdout",
     "output_type": "stream",
     "text": [
      "================================\u001b[1m Human Message \u001b[0m=================================\n",
      "\n",
      "which year world war 2 ended, add 20 in that number and then tell me important news of the new year\n",
      "==================================\u001b[1m Ai Message \u001b[0m==================================\n",
      "Tool Calls:\n",
      "  wikipedia (6z8mdftfn)\n",
      " Call ID: 6z8mdftfn\n",
      "  Args:\n",
      "    query: World War 2 end year\n",
      "=================================\u001b[1m Tool Message \u001b[0m=================================\n",
      "Name: wikipedia\n",
      "\n",
      "Page: End of World War II in Europe\n",
      "Summary: The end of World War II in Europe occurred in May 1945. Following the suicide of Adolf Hitler on 30 April, leadership of Nazi Germany passed to Grand Admiral Karl Dönitz and the Flensburg Government. Soviet troops conquered Berlin on 2 May, and a number of German military forces surrendered over the next few days. On 8 May, Field Marshal Wilhelm Keitel signed the German Instrument of Surrender, an unconditional surrender to the Allies, in Karlshorst, \n",
      "==================================\u001b[1m Ai Message \u001b[0m==================================\n",
      "Tool Calls:\n",
      "  tavily_search (76wt2pc1g)\n",
      " Call ID: 76wt2pc1g\n",
      "  Args:\n",
      "    query: important news 1965\n",
      "    search_depth: advanced\n",
      "    time_range: year\n",
      "    topic: news\n",
      "=================================\u001b[1m Tool Message \u001b[0m=================================\n",
      "Name: tavily_search\n",
      "\n",
      "{\"query\": \"important news 1965\", \"follow_up_questions\": null, \"answer\": null, \"images\": [], \"results\": [{\"url\": \"https://www.fox5atlanta.com/news/selma-alabama-bloody-sunday-60-years\", \"title\": \"‘Bloody Sunday’ 60th anniversary marked in Selma with remembrances and concerns about the future - FOX 5 Atlanta\", \"score\": 0.5775198, \"published_date\": \"Mon, 10 Mar 2025 01:01:09 GMT\", \"content\": \"(Original Caption) 3/7/1965-Selma, AL- Long line of Negro marchers, led by SNCC representative John Lewis (R) and Rev. Hosea Williams, leaves bridge across Alabama River past Alabama state troopers (R) and sign \\\"welcoming\\\" visitors to Selma, \\\"The city with 100% Human Interest.\\\" Fifty-yards further on the Negroes were halted by state troopers who used clubs and tear gas to break up their march to Montgomery. [...] (Original Caption) 3/7/1965-Selma, Alabama- Wearing helmets and gas masks, charging Alabama state troopers pass up fallen Negro demonstrators on the median strip of U.S. Highway 80. Troopers, acting on orders of Alabama governor George Wallace, broke\\n\\nExpand\\n\\nKirk Carrington was just 13 on Bloody Sunday and was chased through the city by a man on a horse wielding a stick. \\\"When we started marching, we did not know the impact we would have in America,\\\" he said. [...] SELMA, ALABAMA - MARCH 09: Sen. Raphael Warnock (D-GA) prepares walk across Edmund Pettus Bridge as they commemorate the 60th anniversary of \\\"Bloody Sunday\\\" on March 09, 2025 in Selma, Alabama. Community members and Democratic Congressional leadership mark the day on March 7, 1965 when a group of about 525 mostly African-American demonstrators gathered at Brown Chapel A.M.E. Church and attempted to march to Montgomery to demand the right to vote. The group was met by state troopers and were\", \"raw_content\": null}, {\"url\": \"https://www.al.com/politics/2025/03/sixty-years-after-bloody-sunday-the-fight-for-democracy-continues-op-ed.html\", \"title\": \"Sixty years after ‘Bloody Sunday’ the fight for democracy continues : op-ed - AL.com\", \"score\": 0.52612424, \"published_date\": \"Sun, 09 Mar 2025 13:00:00 GMT\", \"content\": \"In 1965, Black Americans were fighting not just for the right to vote, but for the right to live free from violence. The march to Montgomery was sparked by the murder of Jimmie Lee Jackson, a 26-year-old activist shot by an Alabama state trooper after a peaceful protest. Jackson’s murder, and the violence that occurred when the march reached the Edmund Pettus Bridge, was just one chapter in a long history of racial terror in this country. [...] Sixty years ago, on March 7, 1965, a group of Black Americans set out on a march from Selma to Montgomery to demand their most fundamental right—the right to vote. They never made it that day. Instead, when they reached the Edmund Pettus Bridge, they were met with state troopers wielding tear gas and billy clubs. The brutal violence of Bloody Sunday was captured on film and broadcast across the country, shocking the conscience of the nation and helping to push Congress to pass the Voting Rights [...] The fight for racial justice in 1965 was not just about the ballot box. It was about dismantling the entire system of racial hierarchy in America—in schools, workplaces, housing, and public spaces. The promise of Brown v. Board of Education, which declared racial segregation unconstitutional in 1954, was supposed to be realized through federal enforcement and civil rights protections.\", \"raw_content\": null}, {\"url\": \"https://www.npr.org/2025/03/09/nx-s1-5312032/selma-bloody-sunday-60-years-edmund-pettus-bridge\", \"title\": \"60 years after Bloody Sunday in Alabama, elusive racial progress in Selma - NPR\", \"score\": 0.51530343, \"published_date\": \"Sun, 09 Mar 2025 11:00:00 GMT\", \"content\": \"Hosea Williams, left, who led a march in Selma, Ala., leaves the scene as state troopers break up the demonstration on what is known as Bloody Sunday on March 7, 1965. AP hide caption\\n\\ntoggle caption\\n\\nAP\\n\\nPresident Lyndon Johnson gave a pivotal speech to Congress a week later, calling Selma a turning point in American history, likening it to the famous American battles at Lexington and Concord, and Appomattox. [...] Image 16: Civil rights demonstrators, led by Dr Martin Luther King (5th R), civil rights activist Ralph Abernathy (5th L), John Lewis (3rd L) and other civil and religious leaders, make their way from Selma to Montgomery on March 22, 1965 in Alabama. [...] Civil rights demonstrators, led by Dr. Martin Luther King (5th R), civil rights activist Ralph Abernathy (5th L), John Lewis (3rd L) and other civil and religious leaders, make their way from Selma to Montgomery on March 22, 1965 in Alabama. AFP/via Getty Images hide caption\\n\\ntoggle caption\\n\\nAFP/via Getty Images\", \"raw_content\": null}, {\"url\": \"https://www.northcountrypublicradio.org/news/npr/nx-s1-5312032/60-years-after-bloody-sunday-in-alabama-elusive-racial-progress-in-selma\", \"title\": \"60 years after Bloody Sunday in Alabama, elusive racial progress in Selma - North Country Public Radio\", \"score\": 0.4892356, \"published_date\": \"Sun, 09 Mar 2025 11:15:00 GMT\", \"content\": \"Civil rights demonstrators, led by Dr. Martin Luther King (5th R), civil rights activist Ralph Abernathy (5th L), John Lewis (3rd L) and other civil and religious leaders, make their way from Selma to Montgomery on March 22, 1965 in Alabama. Image: AFP/via Getty Images\\n\\nSELMA, Ala. — People make the pilgrimage annually to walk across the iconic Edmund Pettus Bridge, where on March 7, 1965, law officers attacked civil rights activists in an incident that became known as Bloody Sunday. [...] President Lyndon Johnson gave a pivotal speech to Congress a week later, calling Selma a turning point in American history, likening it to the famous American battles at Lexington and Concord, and Appomattox.\\n\\n\\\"Really it's all of us who must overcome the crippling legacy of bigotry and injustice,\\\" he said. \\\"And we shall overcome,\\\" echoing the refrain of a popular freedom song.\\n\\nLBJ signed the 1965 Voting Rights Act into law later that year. [...] Image 36: The iconic Edmund Pettus Bridge where on March 7, 1965 peaceful voting rights marchers were beaten violently by state troopers and sheriff's deputies. The brutal incident became known as Bloody Sunday.\\n\\nThe iconic Edmund Pettus Bridge where on March 7, 1965 peaceful voting rights marchers were beaten violently by state troopers and sheriff's deputies. The brutal incident became known as Bloody Sunday. Image: Debbie Elliott/NPR\", \"raw_content\": null}, {\"url\": \"https://www.washingtonpost.com/national/2025/03/09/selma-alabama-bloody-sunday-commemoration-civil-rights/e4896850-fca4-11ef-bbd0-5841f0ec1418_story.html\", \"title\": \"'Bloody Sunday' 60th anniversary marked in Selma with remembrances and concerns about the future - The Washington Post\", \"score\": 0.46905875, \"published_date\": \"Sun, 09 Mar 2025 07:20:58 GMT\", \"content\": \"FILE - An Alabama state trooper swings a club at John Lewis, right foreground, chairman of the Student Nonviolent Coordinating Committee, to break up a civil rights voting march in Selma, Ala., March 7, 1965. (AP Photo, File) (Uncredited/AP)\\n\\nBy Kim Chandler and Safiyah Riddle | AP\\n\\nSELMA, Ala. — Charles Mauldin was near the front of a line of voting rights marchers walking in pairs across the Edmund Pettus Bridge in Selma, Alabama on March 7, 1965. [...] 'Bloody Sunday' 60th anniversary marked in Selma with remembrances and concerns about the future\\n================================================================================================\\n\\nAlabama this weekend is marking the 60th anniversary of a key event in the civil rights movement, when voting rights marchers were attacked in Selma on March 7, 1965\\n\\nMarch 9, 2025 at 12:11 a.m. ESTToday at 12:11 a.m. EST\\n\\nImage 1 [...] The marchers were protesting white officials’ refusal to allow Black Alabamians to register to vote, as well as the killing days earlier of Jimmie Lee Jackson , a minister and voting rights organizer who was shot by a state trooper in nearby Marion.\\n\\nAt the apex of the span over the Alabama River, they saw what awaited them: a line of state troopers, deputies and men on horseback. After they approached, law enforcement gave a warning to disperse and then unleashed violence.\", \"raw_content\": null}], \"response_time\": 1.71}\n",
      "==================================\u001b[1m Ai Message \u001b[0m==================================\n",
      "\n",
      "World War 2 ended in **1945**. Adding 20 to this gives **1965**. \n",
      "\n",
      "### Important News in 1965:\n",
      "The year 1965 marked the **Bloody Sunday** event in Selma, Alabama, on March 7, where civil rights marchers were violently attacked by law enforcement while protesting for voting rights. This pivotal moment:\n",
      "- Led to national outrage and President Lyndon B. Johnson's famous \"We Shall Overcome\" speech.\n",
      "- Catalyzed the passage of the **Voting Rights Act of 1965**, a landmark civil rights law to protect Black voters.\n",
      "- Featured leaders like John Lewis and Hosea Williams, whose resilience became a symbol of the movement.\n",
      "\n",
      "The commemoration of this event in 2025 (60 years later) highlights its enduring impact on democracy and racial justice.\n"
     ]
    }
   ],
   "source": [
    "query = \"which year world war 2 ended, add 20 in that number and then tell me important news of the new year\"\n",
    "result = graph.invoke({\"messages\":HumanMessage(content=query)})\n",
    "\n",
    "for m in result[\"messages\"]:\n",
    "    m.pretty_print()"
   ]
  }
 ],
 "metadata": {
  "kernelspec": {
   "display_name": "multitoolchatbot",
   "language": "python",
   "name": "python3"
  },
  "language_info": {
   "codemirror_mode": {
    "name": "ipython",
    "version": 3
   },
   "file_extension": ".py",
   "mimetype": "text/x-python",
   "name": "python",
   "nbconvert_exporter": "python",
   "pygments_lexer": "ipython3",
   "version": "3.12.7"
  }
 },
 "nbformat": 4,
 "nbformat_minor": 5
}
